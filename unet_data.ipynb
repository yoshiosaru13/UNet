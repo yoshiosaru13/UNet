{
  "nbformat": 4,
  "nbformat_minor": 0,
  "metadata": {
    "colab": {
      "provenance": []
    },
    "kernelspec": {
      "name": "python3",
      "display_name": "Python 3"
    },
    "language_info": {
      "name": "python"
    }
  },
  "cells": [
    {
      "cell_type": "code",
      "source": [
        "import numpy as np\n",
        "import tensorflow as tf\n",
        "import keras\n",
        "from keras import layers, Sequential, Input\n",
        "from keras.models import Model\n",
        "from keras.preprocessing.image import ImageDataGenerator\n",
        "from keras.utils import plot_model\n",
        "\n",
        "import glob\n",
        "import os\n",
        "import matplotlib.pyplot as plt\n",
        "from PIL import Image"
      ],
      "metadata": {
        "id": "-W4lTzlq7CkY"
      },
      "execution_count": null,
      "outputs": []
    },
    {
      "cell_type": "code",
      "source": [
        "X = []\n",
        "images = glob.glob('data/train/image/*.png')\n",
        "images.sort()\n",
        "\n",
        "for image in images:\n",
        "    im = Image.open(image)\n",
        "    im = im.resize((256, 256))\n",
        "    im_arr = np.array(im)\n",
        "    X.append(im_arr)\n",
        "\n",
        "X = np.array(X)\n",
        "print(X.shape)"
      ],
      "metadata": {
        "id": "EcNxPa096Ni2"
      },
      "execution_count": null,
      "outputs": []
    },
    {
      "cell_type": "code",
      "source": [
        "y = []\n",
        "masks = glob.glob('data/train/label/*.png')\n",
        "masks.sort()\n",
        "\n",
        "for mask in masks:\n",
        "    mk = Image.open(mask)\n",
        "    mk = mk.resize((256, 256))\n",
        "    mk_arr = np.array(mk)\n",
        "    onehot_mk = np.eye(2)[mk_arr]\n",
        "    y.append(onehot_mk)\n",
        "\n",
        "y = np.array(y)\n",
        "print(y.shape)"
      ],
      "metadata": {
        "id": "MibawjPd6VSb"
      },
      "execution_count": null,
      "outputs": []
    },
    {
      "cell_type": "code",
      "source": [
        "X_test = []\n",
        "test_images = glob.glob('data/val/image/*.png')\n",
        "test_images.sort()\n",
        "\n",
        "for img in test_images:\n",
        "    ti = Image.open(img)\n",
        "    ti = ti.resize((256, 256))\n",
        "    ti_arr = np.array(ti)\n",
        "    X_test.append(ti_arr)\n",
        "\n",
        "X_test = np.array(X_test)\n",
        "print(X_test.shape)"
      ],
      "metadata": {
        "id": "IOgoo5Zz6XUm"
      },
      "execution_count": null,
      "outputs": []
    },
    {
      "cell_type": "code",
      "source": [
        "y_test = []\n",
        "y_test_images = glob.glob('data/val/label/*.png')\n",
        "y_test_images.sort()\n",
        "\n",
        "for im in y_test_images:\n",
        "    y_im = Image.open(im)\n",
        "    y_im = y_im.resize((256, 256))\n",
        "    y_im_arr = np.array(y_im)\n",
        "    onehot_y = np.eye(2)[y_im_arr]\n",
        "    y_test.append(onehot_y)\n",
        "\n",
        "y_test = np.array(y_test)\n",
        "print(y_test.shape)"
      ],
      "metadata": {
        "id": "xi_gezM36ZY6"
      },
      "execution_count": null,
      "outputs": []
    }
  ]
}