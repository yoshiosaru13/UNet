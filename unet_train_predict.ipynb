{
  "nbformat": 4,
  "nbformat_minor": 0,
  "metadata": {
    "colab": {
      "provenance": []
    },
    "kernelspec": {
      "name": "python3",
      "display_name": "Python 3"
    },
    "language_info": {
      "name": "python"
    }
  },
  "cells": [
    {
      "cell_type": "code",
      "source": [
        "import numpy as np\n",
        "import tensorflow as tf\n",
        "import keras\n",
        "from keras import layers, Sequential, Input\n",
        "from keras.models import Model\n",
        "from keras.preprocessing.image import ImageDataGenerator\n",
        "from keras.utils import plot_model\n",
        "\n",
        "import glob\n",
        "import os\n",
        "import matplotlib.pyplot as plt\n",
        "from PIL import Image"
      ],
      "metadata": {
        "id": "-72kRVDF7ELR"
      },
      "execution_count": null,
      "outputs": []
    },
    {
      "cell_type": "code",
      "execution_count": null,
      "metadata": {
        "id": "0rbCGm6K6zZK"
      },
      "outputs": [],
      "source": [
        "from unet_model import *\n",
        "from unet_data import *"
      ]
    },
    {
      "cell_type": "code",
      "source": [
        "unet = UNet()\n",
        "model = unet.model()\n",
        "model.compile(optimizer=keras.optimizers.Adam(lr=0.001, beta_1=0.9, beta_2=0.999, epsilon=None, amsgrad=True),\n",
        "              loss=keras.losses.BinaryCrossentropy(),\n",
        "              metrics=['accuracy'])"
      ],
      "metadata": {
        "id": "uO5RRVBj7HUz"
      },
      "execution_count": null,
      "outputs": []
    },
    {
      "cell_type": "code",
      "source": [
        "history = model.fit(X, y, batch_size=8, verbose=1, epochs=20)"
      ],
      "metadata": {
        "id": "gWnh1cpi7RQf"
      },
      "execution_count": null,
      "outputs": []
    },
    {
      "cell_type": "code",
      "source": [
        "predict_imgs = model.predict(X_test)\n",
        "print(predict_imgs.shape)\n",
        "\n",
        "predict_imgs = np.argmax(predict_imgs, axis=3)\n",
        "predict_imgs *= 255\n",
        "print(predict_imgs.shape)\n",
        "\n",
        "fig, axes = plt.subplots(4, 2, figsize=(15, 15), tight_layout=True)\n",
        "\n",
        "for i in range(4):\n",
        "    axes[i][0].imshow(y_test_show[i], cmap='gray')\n",
        "    axes[i][0].set_title('True Image {}'.format(i))\n",
        "\n",
        "    axes[i][1].imshow(predict_imgs[i], cmap='gray')\n",
        "    axes[i][1].set_title('Predicted Image {}'.format(i))"
      ],
      "metadata": {
        "id": "WAxZysLW7rnh"
      },
      "execution_count": null,
      "outputs": []
    }
  ]
}